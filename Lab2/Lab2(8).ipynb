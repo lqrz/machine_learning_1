{
 "metadata": {
  "name": "",
  "signature": "sha256:14d8712a11b7db1863e3d42efbc89538abc3989a0467e7dc98a7442fd20a2adb"
 },
 "nbformat": 3,
 "nbformat_minor": 0,
 "worksheets": [
  {
   "cells": [
    {
     "cell_type": "markdown",
     "metadata": {},
     "source": [
      "# Lab 2: Classification\n",
      "\n",
      "### Machine Learning and Pattern Recognition, September 2014\n",
      "\n",
      "* The lab exercises should be made in groups of two or three people.\n",
      "* The deadline is October 5th (sunday) 23:59.\n",
      "* Assignment should be sent to taco.cohen@gmail.com. The subject line of your email should be \"lab\\#\\_lastname1\\_lastname2\\_lastname3\".\n",
      "* Put your and your teammates' names in the body of the email\n",
      "* Attach the .IPYNB (IPython Notebook) file containing your code and answers. Naming of the file follows the same rule as the subject line. For example, if the subject line is \"lab01\\_Kingma\\_Hu\", the attached file should be \"lab01\\_Kingma\\_Hu.ipynb\". Only use underscores (\"\\_\") to connect names, otherwise the files cannot be parsed.\n",
      "\n",
      "Notes on implementation:\n",
      "\n",
      "* You should write your code and answers in an IPython Notebook: http://ipython.org/notebook.html. If you have problems, please contact us.\n",
      "* Among the first lines of your notebook should be \"%pylab inline\". This imports all required modules, and your plots will appear inline.\n",
      "* NOTE: Make sure we can run your notebook / scripts!\n",
      "\n",
      "$\\newcommand{\\bx}{\\mathbf{x}}$\n",
      "$\\newcommand{\\bw}{\\mathbf{w}}$\n",
      "$\\newcommand{\\bt}{\\mathbf{t}}$\n",
      "$\\newcommand{\\by}{\\mathbf{y}}$\n",
      "$\\newcommand{\\bm}{\\mathbf{m}}$\n",
      "$\\newcommand{\\bb}{\\mathbf{b}}$\n",
      "$\\newcommand{\\bS}{\\mathbf{S}}$\n",
      "$\\newcommand{\\ba}{\\mathbf{a}}$\n",
      "$\\newcommand{\\bz}{\\mathbf{z}}$\n",
      "$\\newcommand{\\bv}{\\mathbf{v}}$\n",
      "$\\newcommand{\\bq}{\\mathbf{q}}$\n",
      "$\\newcommand{\\bp}{\\mathbf{p}}$\n",
      "$\\newcommand{\\bh}{\\mathbf{h}}$\n",
      "\n",
      "$\\newcommand{\\bI}{\\mathbf{I}}$\n",
      "$\\newcommand{\\bX}{\\mathbf{X}}$\n",
      "$\\newcommand{\\bT}{\\mathbf{T}}$\n",
      "$\\newcommand{\\bPhi}{\\mathbf{\\Phi}}$\n",
      "$\\newcommand{\\bW}{\\mathbf{W}}$\n",
      "$\\newcommand{\\bV}{\\mathbf{V}}$"
     ]
    },
    {
     "cell_type": "code",
     "collapsed": false,
     "input": [
      "%pylab inline\n",
      "import gzip, cPickle\n",
      "import numpy as np\n",
      "import matplotlib.pyplot as plt"
     ],
     "language": "python",
     "metadata": {},
     "outputs": [
      {
       "output_type": "stream",
       "stream": "stdout",
       "text": [
        "Populating the interactive namespace from numpy and matplotlib\n"
       ]
      }
     ],
     "prompt_number": 1
    },
    {
     "cell_type": "markdown",
     "metadata": {},
     "source": [
      "# Part 1. Multiclass logistic regression\n",
      "\n",
      "Scenario: you have a friend with one big problem: she's completely blind. You decided to help her: she has a special smartphone for blind people, and you are going to develop a mobile phone app that can do _machine vision_ using the mobile camera: converting a picture (from the camera) to the meaning of the image. You decide to start with an app that can read handwritten digits, i.e. convert an image of handwritten digits to text (e.g. it would enable her to read precious handwritten phone numbers).\n",
      "\n",
      "A key building block for such an app would be a function `predict_digit(x)` that returns the digit class of an image patch $\\bx$. Since hand-coding this function is highly non-trivial, you decide to solve this problem using machine learning, such that the internal parameters of this function are automatically learned using machine learning techniques.\n",
      "\n",
      "The dataset you're going to use for this is the MNIST handwritten digits dataset (`http://yann.lecun.com/exdb/mnist/`). You can load the data from `mnist.pkl.gz` we provided, using: "
     ]
    },
    {
     "cell_type": "code",
     "collapsed": false,
     "input": [
      "def load_mnist():\n",
      "\tf = gzip.open('mnist.pkl.gz', 'rb')\n",
      "\tdata = cPickle.load(f)\n",
      "\tf.close()\n",
      "\treturn data\n",
      "\n",
      "(x_train, t_train), (x_valid, t_valid), (x_test, t_test) = load_mnist()"
     ],
     "language": "python",
     "metadata": {},
     "outputs": [],
     "prompt_number": 2
    },
    {
     "cell_type": "code",
     "collapsed": false,
     "input": [
      "print x_train[0:2], t_train[0:2]"
     ],
     "language": "python",
     "metadata": {},
     "outputs": [
      {
       "output_type": "stream",
       "stream": "stdout",
       "text": [
        "[[ 0.  0.  0. ...,  0.  0.  0.]\n",
        " [ 0.  0.  0. ...,  0.  0.  0.]] [5 0]\n"
       ]
      }
     ],
     "prompt_number": 3
    },
    {
     "cell_type": "markdown",
     "metadata": {},
     "source": [
      "The tuples represent train, validation and test sets. The first element (`x_train`, `x_valid`, `x_test`) of each tuple is a $N \\times M$ matrix, where $N$ is the number of datapoints and $M = 28^2 = 784$ is the dimensionality of the data. The second element (`t_train`, `t_valid`, `t_test`) of each tuple is the corresponding $N$-dimensional vector of integers, containing the true class labels.\n",
      "\n",
      "Here's a visualisation of the first 8 digits of the trainingset:"
     ]
    },
    {
     "cell_type": "code",
     "collapsed": false,
     "input": [
      "def plot_digits(data, numcols, shape=(28,28)):\n",
      "    numdigits = data.shape[0]\n",
      "    numrows = int(numdigits/numcols)\n",
      "    for i in range(numdigits):\n",
      "        plt.subplot(numrows, numcols, i)\n",
      "        plt.axis('off')\n",
      "        plt.imshow(data[i].reshape(shape), interpolation='nearest', cmap='Greys')\n",
      "    plt.show()\n",
      "    \n",
      "plot_digits(x_train[0:8], numcols=4)\n"
     ],
     "language": "python",
     "metadata": {},
     "outputs": [
      {
       "metadata": {},
       "output_type": "display_data",
       "png": "[encoded data removed]",
       "text": [
        "<matplotlib.figure.Figure at 0x7f7ce2b1d350>"
       ]
      }
     ],
     "prompt_number": 4
    },
    {
     "cell_type": "markdown",
     "metadata": {},
     "source": [
      "In _multiclass_ logistic regression, the conditional probability of class label $j$ given the image $\\bx$ for some datapoint is given by:\n",
      "\n",
      "$ \\log p(t = j \\;|\\; \\bx, \\bb, \\bW) = \\log q_j - \\log Z$\n",
      "\n",
      "where $\\log q_j = \\bw_j^T \\bx + b_j$ (the log of the unnormalized probability of the class $j$), and $Z = \\sum_k q_k$ is the normalizing factor. $\\bw_j$ is the $j$-th column of $\\bW$ (a matrix of size $784 \\times 10$) corresponding to the class label, $b_j$ is the $j$-th element of $\\bb$.\n",
      "\n",
      "Given an input image, the multiclass logistic regression model first computes the intermediate vector $\\log \\bq$ (of size $10 \\times 1$), using $\\log q_j = \\bw_j^T \\bx + b_j$, containing the unnormalized log-probabilities per class. \n",
      "\n",
      "The unnormalized probabilities are then normalized by $Z$ such that $\\sum_j p_j = \\sum_j \\exp(\\log p_j) = 1$. This is done by $\\log p_j = \\log q_j - \\log Z$ where $Z = \\sum_j \\exp(\\log q_j)$. This is known as the _softmax_ transformation, and is also used as a last layer of many classifcation neural network models, to ensure that the output of the network is a normalized distribution, regardless of the values of second-to-last layer ($\\log \\bq$)\n",
      "\n",
      "Warning: when computing $\\log Z$, you are likely to encounter numerical problems. Save yourself countless hours of debugging and learn the [log-sum-exp trick](https://hips.seas.harvard.edu/blog/2013/01/09/computing-log-sum-exp/ \"Title\").\n",
      "\n",
      "The network's output $\\log \\bp$ of size $10 \\times 1$ then contains the conditional log-probabilities $\\log p(t = j \\;|\\; \\bx, \\bb, \\bW)$ for each digit class $j$. In summary, the computations are done in this order:\n",
      "\n",
      "$\\bx \\rightarrow \\log \\bq \\rightarrow Z \\rightarrow \\log \\bp$\n",
      "\n",
      "Given some dataset with $N$ independent, identically distributed datapoints, the log-likelihood is given by:\n",
      "\n",
      "$ \\mathcal{L}(\\bb, \\bW) = \\sum_{n=1}^N \\mathcal{L}^{(n)}$\n",
      "\n",
      "where we use $\\mathcal{L}^{(n)}$ to denote the partial log-likelihood evaluated over a single datapoint. It is important to see that the log-probability of the class label $t^{(n)}$ given the image, is given by the $t^{(n)}$-th element of the network's output $\\log \\bp$, denoted by $\\log p_{t^{(n)}}$:\n",
      "\n",
      "$\\mathcal{L}^{(n)} = \\log p(t = t^{(n)} \\;|\\; \\bx = \\bx^{(n)}, \\bb, \\bW) = \\log p_{t^{(n)}} = \\log q_{t^{(n)}} - \\log Z^{(n)}$\n",
      "\n",
      "where $\\bx^{(n)}$ and $t^{(n)}$ are the input (image) and class label (integer) of the $n$-th datapoint, and $Z^{(n)}$ is the normalizing constant for the distribution over $t^{(n)}$.\n"
     ]
    },
    {
     "cell_type": "markdown",
     "metadata": {},
     "source": [
      "## 1.1 Gradient-based stochastic optimization\n",
      "\n",
      "### 1.1.1 Derive gradient equations (20 points)\n",
      "\n",
      "Derive the equations for computing the (first) partial derivatives of the log-likelihood w.r.t. all the parameters, evaluated at a _single_ datapoint $n$.\n",
      "\n",
      "You should start deriving the equations for $\\frac{\\partial \\mathcal{L}^{(n)}}{\\partial \\log q_j}$ for each $j$. For clarity, we'll use the shorthand $\\delta^q_j = \\frac{\\partial \\mathcal{L}^{(n)}}{\\partial \\log q_j}$.\n",
      "\n",
      "For $j = t^{(n)}$:\n",
      "$\n",
      "\\delta^q_j\n",
      "= \\frac{\\partial \\mathcal{L}^{(n)}}{\\partial \\log p_j}\n",
      "\\frac{\\partial \\log p_j}{\\partial \\log q_j}\n",
      "+ \\frac{\\partial \\mathcal{L}^{(n)}}{\\partial \\log Z}\n",
      "\\frac{\\partial \\log Z}{\\partial Z} \n",
      "\\frac{\\partial Z}{\\partial \\log q_j} \n",
      "= 1 \\cdot 1 - \\frac{\\partial \\log Z}{\\partial Z} \n",
      "\\frac{\\partial Z}{\\partial \\log q_j}\n",
      "= 1 - \\frac{\\partial \\log Z}{\\partial Z} \n",
      "\\frac{\\partial Z}{\\partial \\log q_j}\n",
      "$\n",
      "\n",
      "For $j \\neq t^{(n)}$:\n",
      "$\n",
      "\\delta^q_j\n",
      "= \\frac{\\partial \\mathcal{L}^{(n)}}{\\partial \\log Z}\n",
      "\\frac{\\partial \\log Z}{\\partial Z} \n",
      "\\frac{\\partial Z}{\\partial \\log q_j} \n",
      "= - \\frac{\\partial \\log Z}{\\partial Z} \n",
      "\\frac{\\partial Z}{\\partial \\log q_j}\n",
      "$\n",
      "\n",
      "Complete the above derivations for $\\delta^q_j$ by furtherly developing $\\frac{\\partial \\log Z}{\\partial Z}$ and $\\frac{\\partial Z}{\\partial \\log q_j}$. Both are quite simple. For these it doesn't matter whether $j = t^{(n)}$ or not.\n",
      "\n",
      "\n",
      "Given your equations for computing the gradients $\\delta^q_j$ it should be quite straightforward to derive the equations for the gradients of the parameters of the model, $\\frac{\\partial \\mathcal{L}^{(n)}}{\\partial W_{ij}}$ and $\\frac{\\partial \\mathcal{L}^{(n)}}{\\partial b_j}$. The gradients for the biases $\\bb$ are given by:\n",
      "\n",
      "$\n",
      "\\frac{\\partial \\mathcal{L}^{(n)}}{\\partial b_j}\n",
      "= \\frac{\\partial \\mathcal{L}^{(n)}}{\\partial \\log q_j}\n",
      "\\frac{\\partial \\log q_j}{\\partial b_j}\n",
      "= \\delta^q_j\n",
      "\\cdot 1\n",
      "= \\delta^q_j\n",
      "$\n",
      "\n",
      "The equation above gives the derivative of $\\mathcal{L}^{(n)}$ w.r.t. a single element of $\\bb$, so the vector $\\nabla_\\bb \\mathcal{L}^{(n)}$ with all derivatives of $\\mathcal{L}^{(n)}$ w.r.t. the bias parameters $\\bb$ is: \n",
      "\n",
      "$\n",
      "\\nabla_\\bb \\mathcal{L}^{(n)} = \\mathbf{\\delta}^q\n",
      "$\n",
      "\n",
      "where $\\mathbf{\\delta}^q$ denotes the vector of size $10 \\times 1$ with elements $\\mathbf{\\delta}_j^q$.\n",
      "\n",
      "The (not fully developed) equation for computing the derivative of $\\mathcal{L}^{(n)}$ w.r.t. a single element $W_{ij}$ of $\\bW$ is:\n",
      "\n",
      "$\n",
      "\\frac{\\partial \\mathcal{L}^{(n)}}{\\partial W_{ij}} =\n",
      "\\frac{\\partial \\mathcal{L}^{(n)}}{\\partial \\log q_j}\n",
      "\\frac{\\partial \\log q_j}{\\partial W_{ij}}\n",
      "= \\mathbf{\\delta}_j^q\n",
      "\\frac{\\partial \\log q_j}{\\partial W_{ij}}\n",
      "$\n",
      "\n",
      "What is $\\frac{\\partial \\log q_j}{\\partial W_{ij}}$? Complete the equation above.\n",
      "\n",
      "If you want, you can give the resulting equation in vector format ($\\nabla_{\\bw_j} \\mathcal{L}^{(n)} = ...$), like we did for $\\nabla_\\bb \\mathcal{L}^{(n)}$."
     ]
    },
    {
     "cell_type": "markdown",
     "metadata": {},
     "source": [
      "Answer:\n",
      "\n",
      "Aux calculations\n",
      "\n",
      "$Z = \\sum_j \\exp(\\log q_j) = \\sum_j q_j$\n",
      "\n",
      "$\\frac{\\partial \\log Z}{\\partial Z} = \\frac{1}{Z} = \\frac{1}{\\sum_j q_j}$ \n",
      "\n",
      "$\\frac{\\partial Z}{\\partial \\log q_j} = \\exp(\\log q_j) = q_j$\n",
      "\n",
      "$\\frac{\\partial \\log q_j}{\\partial W_{ij}} = x_i$\n",
      "\n",
      "For $j = t^{(n)}$:\n",
      "$\n",
      "\\delta^q_j\n",
      "=\n",
      "1 - \\frac{\\partial \\log Z}{\\partial Z} \\frac{\\partial Z}{\\partial \\log q_j} = 1 - \\frac{1}{\\sum_k q_k} q_j$\n",
      "\n",
      "For $j \\neq t^{(n)}$:\n",
      "$\n",
      "\\delta^q_j\n",
      "=\n",
      "- \\frac{\\partial \\log Z}{\\partial Z} \\frac{\\partial Z}{\\partial \\log q_j} = - \\frac{1}{\\sum_k q_k} q_j$\n",
      "\n",
      "Deriving w.r.t. parameters:\n",
      "\n",
      "$\n",
      "\\frac{\\partial \\mathcal{L}^{(n)}}{\\partial W_{ij}} =\n",
      "\\frac{\\partial \\mathcal{L}^{(n)}}{\\partial \\log q_j}\n",
      "\\frac{\\partial \\log q_j}{\\partial W_{ij}}\n",
      "= \\mathbf{\\delta}_j^q\n",
      "\\frac{\\partial \\log q_j}{\\partial W_{ij}}\n",
      "= \\mathbf{\\delta}_j^q x_i\n",
      "$\n",
      "\n",
      "$\n",
      "\\frac{\\partial \\mathcal{L}^{(n)}}{\\partial b_j}\n",
      "= \\frac{\\partial \\mathcal{L}^{(n)}}{\\partial \\log q_j}\n",
      "\\frac{\\partial \\log q_j}{\\partial b_j}\n",
      "= \\delta^q_j\n",
      "\\cdot 1\n",
      "= \\delta^q_j\n",
      "$"
     ]
    },
    {
     "cell_type": "markdown",
     "metadata": {},
     "source": [
      "### 1.1.2 Implement gradient computations (10 points)\n",
      "\n",
      "Implement the gradient calculations you derived in the previous question. Write a function `logreg_gradient(x, t, w, b)` that returns the gradients $\\nabla_{\\bw_j} \\mathcal{L}^{(n)}$ (for each $j$) and $\\nabla_{\\bb} \\mathcal{L}^{(n)}$, i.e. the first partial derivatives of the log-likelihood w.r.t. the parameters $\\bW$ and $\\bb$, evaluated at a single datapoint (`x`, `t`).\n",
      "The computation will contain roughly the following intermediate variables:\n",
      "\n",
      "$\n",
      "\\log \\bq \\rightarrow Z \\rightarrow \\log \\bp \\rightarrow \\mathbf{\\delta}^q\n",
      "$\n",
      "\n",
      "followed by computation of the gradient vectors $\\nabla_{\\bw_j} \\mathcal{L}^{(n)}$ (contained in a $784 \\times 10$ matrix) and $\\nabla_{\\bb} \\mathcal{L}^{(n)}$ (a $10 \\times 1$ vector).\n"
     ]
    },
    {
     "cell_type": "code",
     "collapsed": false,
     "input": [
      "def onehot(x,numclasses=None):\n",
      "    \"\"\" Convert integer encoding for class-labels (starting with 0 !)\n",
      "        to one-hot encoding. \n",
      "      \n",
      "        If numclasses (the number of classes) is not provided, it is assumed \n",
      "        to be equal to the largest class index occuring in the labels-array + 1.\n",
      "        The output is an array who's shape is the shape of the input array plus\n",
      "        an extra dimension, containing the 'one-hot'-encoded labels. \n",
      "    \"\"\"\n",
      "    if x.shape==():\n",
      "        x = x[None]\n",
      "    if numclasses is None:\n",
      "        numclasses = x.max() + 1\n",
      "    result = numpy.zeros(list(x.shape) + [numclasses], dtype=\"int\")\n",
      "    z = numpy.zeros(x.shape)\n",
      "    for c in range(numclasses):\n",
      "        z *= 0\n",
      "        z[numpy.where(x==c)] = 1\n",
      "        result[...,c] += z\n",
      "    return result"
     ],
     "language": "python",
     "metadata": {},
     "outputs": [],
     "prompt_number": 5
    },
    {
     "cell_type": "code",
     "collapsed": false,
     "input": [
      "onehot(t_train[0],10).shape"
     ],
     "language": "python",
     "metadata": {},
     "outputs": [
      {
       "metadata": {},
       "output_type": "pyout",
       "prompt_number": 6,
       "text": [
        "(1, 10)"
       ]
      }
     ],
     "prompt_number": 6
    },
    {
     "cell_type": "code",
     "collapsed": false,
     "input": [
      "x = x_train[0][:,np.newaxis]\n",
      "print x.shape"
     ],
     "language": "python",
     "metadata": {},
     "outputs": [
      {
       "output_type": "stream",
       "stream": "stdout",
       "text": [
        "(784, 1)\n"
       ]
      }
     ],
     "prompt_number": 41
    },
    {
     "cell_type": "code",
     "collapsed": false,
     "input": [
      "w = np.random.rand(784,10)\n",
      "print w.shape\n",
      "b = np.random.rand(10,1)\n",
      "print b.shape\n",
      "log_q = np.dot(w.T,x) + b\n",
      "print log_q.shape\n",
      "max_log_q = np.max(log_q)\n",
      "print max_log_q\n",
      "\n",
      "# two diff ways of expressing sum exp trick\n",
      "print max_log_q + np.log(np.sum(np.exp(log_q - max_log_q)))\n",
      "print max_log_q + np.log(z * exp(-max_log_q))\n",
      "log_z = max_log_q + np.log(z * exp(-max_log_q))\n",
      "\n",
      "\n",
      "#---- THIS 3 CALCS OF Z GIVE DIFF ANSWERS\n",
      "z = np.sum(np.exp(log_q))\n",
      "print z\n",
      "\n",
      "z = np.exp(log_z)\n",
      "print z\n",
      "\n",
      "q = np.exp(log_q)\n",
      "z = np.sum(q)\n",
      "print z\n",
      "#----\n",
      "\n",
      "log_p = log_q - log_z\n",
      "print 'This is log_p: ', log_p.shape\n",
      "\n",
      "print (1/z)* np.exp(log_q)\n",
      "print np.divide(np.exp(log_q),z)\n",
      "print np.exp(log_p)\n",
      "\n",
      "grad_b = onehot(t_train[0],10).T - (1/z)* np.exp(log_q)\n",
      "\n",
      "print grad_b.shape\n",
      "grad_w = np.dot(x,grad_b.T)\n",
      "print grad_w.shape\n",
      "\n",
      "grad_w, grad_b = logreg_gradient(x, t, w, b)\n",
      "\n",
      "log_q,log_z,log_p,z = compute_probs(x, w, b)\n",
      "\n",
      "print log_p.shape"
     ],
     "language": "python",
     "metadata": {},
     "outputs": [
      {
       "output_type": "stream",
       "stream": "stdout",
       "text": [
        "(784, 10)\n",
        "(10, 1)\n",
        "(10, 1)\n",
        "60.3493111864\n",
        "60.9056684813\n",
        "57.6752638628\n",
        "2.82485225306e+26\n",
        "1.11698885004e+25\n",
        "2.82485225306e+26\n",
        "This is log_p:  (10, 1)\n",
        "[[  3.15932759e-04]\n",
        " [  5.83030541e-04]\n",
        " [  1.78278432e-03]\n",
        " [  4.17316531e-01]\n",
        " [  5.73293604e-01]\n",
        " [  1.26684193e-03]\n",
        " [  3.88876670e-03]\n",
        " [  1.00865440e-05]\n",
        " [  8.50735424e-04]\n",
        " [  6.91686461e-04]]\n",
        "[[  3.15932759e-04]\n",
        " [  5.83030541e-04]\n",
        " [  1.78278432e-03]\n",
        " [  4.17316531e-01]\n",
        " [  5.73293604e-01]\n",
        " [  1.26684193e-03]\n",
        " [  3.88876670e-03]\n",
        " [  1.00865440e-05]\n",
        " [  8.50735424e-04]\n",
        " [  6.91686461e-04]]\n",
        "[[  7.98990399e-03]\n",
        " [  1.47447769e-02]\n",
        " [  4.50864151e-02]\n",
        " [  1.05538882e+01]\n",
        " [  1.44985308e+01]\n",
        " [  3.20382900e-02]\n",
        " [  9.83464729e-02]\n",
        " [  2.55087565e-04]\n",
        " [  2.15150033e-02]\n",
        " [  1.74926729e-02]]\n",
        "(10, 1)\n",
        "(784, 10)\n",
        "(10, 1)\n"
       ]
      }
     ],
     "prompt_number": 44
    },
    {
     "cell_type": "code",
     "collapsed": false,
     "input": [
      "def compute_probs(x, w, b):\n",
      "    ''' computes probabilities. for reusing.'''\n",
      "    #x is an entire image. Dimensions: 784x1 (only ONE image)\n",
      "    #w is matrix. Dimensions: 784x10\n",
      "    #b is a vector. Dimensions: 10x1\n",
      "    \n",
      "    #print 'shape x: ', x.shape\n",
      "    #print 'shape w: ', w.shape\n",
      "    #print 'shape b: ', b.shape\n",
      "    log_q = np.dot(w.T,x) + b # dim = [10x1]\n",
      "    #z = np.sum(np.exp(log_q)) # single number\n",
      "    max_log_q = np.max(log_q) # single number\n",
      "    log_z = max_log_q + np.log(np.sum(np.exp(log_q - max_log_q))) # sum exp trick\n",
      "    z = np.exp(log_z)\n",
      "    #print 'shape z: ', z.shape\n",
      "    #log_z = max_log_q + np.log(z * exp(-max_log_q)) # sum exp trick\n",
      "    log_p = log_q - log_z\n",
      "    #print 'shape log_q: ', log_q.shape\n",
      "    #print 'shape log_z: ', log_z.shape\n",
      "    #print 'shape log_p: ', log_p.shape\n",
      "    p = np.exp(log_p)\n",
      "    \n",
      "    return log_q,log_z,log_p,z,p"
     ],
     "language": "python",
     "metadata": {},
     "outputs": [],
     "prompt_number": 102
    },
    {
     "cell_type": "code",
     "collapsed": false,
     "input": [
      "def logreg_gradient(x, t, w, b):\n",
      "    #x is an entire image. Dimensions: 784x1\n",
      "    #t is a real number indicating the class label.\n",
      "    #w is matrix. Dimensions: 784x10\n",
      "    #b is a vector. Dimensions: 10x1\n",
      "    log_q,log_z,log_p,z,p = compute_probs(x, w, b)\n",
      "    \n",
      "    t_one_hot = onehot(t, 10) # one hot representation of the label [1x10]\n",
      "    #print 't_one_hot: ', t_one_hot.shape\n",
      "    #print 'p shape: ', p.shape\n",
      "    #delta_q = 1 - 1/z * exp(log_q)\n",
      "    \n",
      "    grad_b = onehot(t,10).T - (1/z)* np.exp(log_q) # dim = [10x1]\n",
      "    #grad_b = t_one_hot.T - p # dim = [10x1]\n",
      "    #print grad_b.shape\n",
      "    grad_w = np.dot(x,grad_b.T) # dim = [784x10]\n",
      "    #print 'shape grad_b: ', grad_b.shape\n",
      "    #print grad_b2, grad_b\n",
      "    \n",
      "    return grad_w, grad_b"
     ],
     "language": "python",
     "metadata": {},
     "outputs": [],
     "prompt_number": 111
    },
    {
     "cell_type": "markdown",
     "metadata": {},
     "source": [
      "def logreg_gradient(x, t, w, b):\n",
      "    #x is an entire image. Dimensions: 784x1\n",
      "    #t is a real number indicating the class label.\n",
      "    #w is matrix. Dimensions: 784x10?\n",
      "    #b is a vector. Dimensions: 10x1?\n",
      "    \n",
      "    [log_q, log_z, log_p] = perform_probabilities(x, w, b)\n",
      "    #z = np.sum(log_q)\n",
      "    z = np.exp(log_z)\n",
      "    t_one_hot = onehot(np.array(t), 10)\n",
      "    q = np.exp(log_q)\n",
      "    delta_q = t_one_hot.T - np.divide(q,z)\n",
      "   \n",
      "    grad_w_j = np.matrix(np.dot(np.matrix(x).T,delta_q.T))\n",
      "    grad_b = delta_q\n",
      "    \n",
      "    return grad_w_j, grad_b\n",
      "\n",
      "def perform_probabilities(x, w, b):\n",
      "    log_q = np.matrix(np.dot(w.T,x)).T + b #log Q = 10x1\n",
      "    max_log_q = np.max(log_q)\n",
      "    log_z =  max_log_q + np.log(np.sum(np.exp(log_q - max_log_q))) #log Z = 10x1\n",
      "    log_p = log_q - log_z #log P = 10x1\n",
      "    \n",
      "    return log_q, log_z, log_p\n",
      "    "
     ]
    },
    {
     "cell_type": "markdown",
     "metadata": {},
     "source": [
      "x = x_train\n",
      "t = t_train\n",
      "w = np.random.sample((784,10))\n",
      "b = np.random.sample((10,1))\n",
      "\n",
      "logreg_gradient(x[0], t[0], w, b)"
     ]
    },
    {
     "cell_type": "code",
     "collapsed": false,
     "input": [
      "M = 784\n",
      "i = 1\n",
      "x = x_train[i][:,np.newaxis]\n",
      "print x.shape\n",
      "t = t_train[i]\n",
      "w = np.random.sample([M, 10])*2\n",
      "b = np.random.sample(10)[:,np.newaxis]\n",
      "\n",
      "[gradient_wrt_w, gradient_wrt_b] = logreg_gradient(x, t, w, b)\n",
      "print 'results'\n",
      "print gradient_wrt_w, gradient_wrt_b"
     ],
     "language": "python",
     "metadata": {},
     "outputs": [
      {
       "output_type": "stream",
       "stream": "stdout",
       "text": [
        "(784, 1)\n",
        "results\n",
        "[[ 0.  0.  0. ...,  0.  0.  0.]\n",
        " [ 0.  0.  0. ...,  0.  0.  0.]\n",
        " [ 0.  0.  0. ...,  0.  0.  0.]\n",
        " ..., \n",
        " [ 0.  0.  0. ...,  0.  0.  0.]\n",
        " [ 0.  0.  0. ...,  0.  0.  0.]\n",
        " [ 0.  0.  0. ...,  0.  0.  0.]] [[  9.99996517e-01]\n",
        " [ -9.58910146e-01]\n",
        " [ -1.19049503e-05]\n",
        " [ -9.92249581e-06]\n",
        " [ -2.40098357e-05]\n",
        " [ -1.03540110e-03]\n",
        " [ -1.23058730e-05]\n",
        " [ -4.83702634e-03]\n",
        " [ -3.51557941e-02]\n",
        " [ -6.16013092e-09]]\n"
       ]
      }
     ],
     "prompt_number": 104
    },
    {
     "cell_type": "markdown",
     "metadata": {},
     "source": [
      "\n",
      "### 1.1.3 Stochastic gradient descent (10 points)\n",
      "\n",
      "Write a function `sgd_iter(x_train, t_train, w, b)` that performs one iteration of stochastic gradient descent (SGD), and returns the new weights. It should go through the trainingset once in randomized order, call `logreg_gradient(x, t, w, b)` for each datapoint to get the gradients, and update the parameters using a small learning rate (e.g. `1E-4`). Note that in this case we're maximizing the likelihood function, so we should actually performing gradient _ascent_.."
     ]
    },
    {
     "cell_type": "code",
     "collapsed": false,
     "input": [
      "def sgd_iter(x_train, t_train, w, b):\n",
      "    learning_rate = 0.0001\n",
      "    #for i in range(x_train.shape[0]):\n",
      "    rand_index = np.random.permutation(x_train.shape[0])\n",
      "    for i in rand_index:\n",
      "        grad_w, grad_b = logreg_gradient(x_train[i][:,np.newaxis], t_train[i], w, b)\n",
      "        w = w + learning_rate * grad_w\n",
      "        b = b + learning_rate * grad_b\n",
      "        \n",
      "    return w, b"
     ],
     "language": "python",
     "metadata": {},
     "outputs": [],
     "prompt_number": 108
    },
    {
     "cell_type": "markdown",
     "metadata": {},
     "source": [
      "def sgd_iter(x_train, t_train, w, b):\n",
      "    learning_rate = 0.00001\n",
      "    rand_index = np.random.permutation(x_train.shape[0])\n",
      "    for i in rand_index:\n",
      "        [grad_w, grad_b] = logreg_gradient(x_train[i][:,np.newaxis], t[i], w, b)\n",
      "        w = w + learning_rate*grad_w\n",
      "        b = b + learning_rate*grad_b\n",
      "        \n",
      "    return w, b"
     ]
    },
    {
     "cell_type": "code",
     "collapsed": false,
     "input": [
      "x = x_train\n",
      "t = t_train\n",
      "#b = np.zeros((10,1))\n",
      "#w = np.zeros((784,10))\n",
      "w = np.random.rand(784,10)\n",
      "b = np.random.rand(10,1)\n",
      "\n",
      "[upd_w, upd_b] = sgd_iter(x, t, w, b)\n",
      "print upd_w\n",
      "print upd_b"
     ],
     "language": "python",
     "metadata": {},
     "outputs": [
      {
       "output_type": "stream",
       "stream": "stdout",
       "text": [
        "[[ 0.71449538  0.14984738  0.27483123 ...,  0.52459429  0.304833\n",
        "   0.93609937]\n",
        " [ 0.84634761  0.88926626  0.21120621 ...,  0.97386489  0.2913947\n",
        "   0.12078848]\n",
        " [ 0.72874434  0.33529717  0.46287593 ...,  0.44319134  0.90811778\n",
        "   0.72560089]\n",
        " ..., \n",
        " [ 0.94936579  0.39174517  0.36386123 ...,  0.77383173  0.59861004\n",
        "   0.03746873]\n",
        " [ 0.99060398  0.542328    0.74301055 ...,  0.91965366  0.52976049\n",
        "   0.16068033]\n",
        " [ 0.84948192  0.50445947  0.95824969 ...,  0.13452045  0.61715141\n",
        "   0.03877642]]\n",
        "[[ 0.19925901]\n",
        " [ 0.09854563]\n",
        " [ 0.82555872]\n",
        " [ 0.04652962]\n",
        " [ 0.97965796]\n",
        " [ 0.57871048]\n",
        " [ 0.50627322]\n",
        " [ 0.58099528]\n",
        " [ 0.92753941]\n",
        " [ 0.00959055]]\n"
       ]
      }
     ],
     "prompt_number": 106
    },
    {
     "cell_type": "markdown",
     "metadata": {},
     "source": [
      "## 1.2. Train\n",
      "\n",
      "### 1.2.1 Train (10 points)\n",
      "Perform a handful of training iterations through the trainingset. Plot (in one graph) the conditional log-probability of the trainingset and validation set after each iteration.\n"
     ]
    },
    {
     "cell_type": "code",
     "collapsed": false,
     "input": [
      "#w = np.random.rand(784,10)\n",
      "#b = np.random.rand(10,1)\n",
      "w = np.zeros((784,10))\n",
      "b = np.zeros((10,1))\n",
      "\n",
      "itera = 5\n",
      "\n",
      "iter_log_like_train = []\n",
      "iter_log_like_valid = []\n",
      "\n",
      "for i in range(itera):\n",
      "    log_like_train = 0\n",
      "    log_like_valid = 0\n",
      "    w, b = sgd_iter(x_train, t_train, w, b)\n",
      "    \n",
      "    # get total log_likelihood (for all datapoints)\n",
      "    for j in range(x_train.shape[0]):\n",
      "        _,_,log_p_train,_,_ = compute_probs(x_train[j][:,np.newaxis], w, b)\n",
      "        \n",
      "        if j < x_valid.shape[0]:\n",
      "            _,_,log_p_valid,_,_ = compute_probs(x_valid[j][:,np.newaxis], w, b)\n",
      "            log_like_valid += log_p_valid[t_valid[j]][0] # accumulate them\n",
      "        \n",
      "        log_like_train += log_p_train[t_train[j]][0] # accumulate them\n",
      "            \n",
      "    iter_log_like_train.append(log_like_train)\n",
      "    iter_log_like_valid.append(log_like_valid)\n",
      "    print 'Iteration: ', i+1, ' Likelihood train: ', log_like_train, ' Likelihood valid: ', log_like_valid\n",
      "    \n",
      "plt.plot(range(len(iter_log_like_train)),iter_log_like_train, 'o-', label='Training')\n",
      "plt.plot(range(len(iter_log_like_valid)),iter_log_like_valid, 'o-', label='Validation')\n",
      "plt.legend()\n",
      "plt.show()"
     ],
     "language": "python",
     "metadata": {},
     "outputs": [
      {
       "output_type": "stream",
       "stream": "stdout",
       "text": [
        "Iteration:  1  Likelihood train:  -61721.9336817  Likelihood valid:  -11662.6045298\n",
        "Iteration: "
       ]
      },
      {
       "output_type": "stream",
       "stream": "stdout",
       "text": [
        " 2  Likelihood train:  -42253.0981597  Likelihood valid:  -7761.98820455\n",
        "Iteration: "
       ]
      },
      {
       "output_type": "stream",
       "stream": "stdout",
       "text": [
        " 3  Likelihood train:  -35307.7915977  Likelihood valid:  -6413.52852702\n",
        "Iteration: "
       ]
      },
      {
       "output_type": "stream",
       "stream": "stdout",
       "text": [
        " 4  Likelihood train:  -31589.968094  Likelihood valid:  -5714.06539896\n",
        "Iteration: "
       ]
      },
      {
       "output_type": "stream",
       "stream": "stdout",
       "text": [
        " 5  Likelihood train:  -29229.241016  Likelihood valid:  -5281.67513064\n"
       ]
      },
      {
       "metadata": {},
       "output_type": "display_data",
       "png": "[encoded data removed]",
       "text": [
        "<matplotlib.figure.Figure at 0x7f7ce2a02650>"
       ]
      }
     ],
     "prompt_number": 113
    },
    {
     "cell_type": "markdown",
     "metadata": {},
     "source": [
      "x = x_train\n",
      "t = t_train\n",
      "w = np.zeros((784,10))\n",
      "b = np.zeros((10,1))\n",
      "iteraciones = 10\n",
      "log_like = 0\n",
      "\n",
      "for i in range(iteraciones):\n",
      "    [upd_w, upd_b] = sgd_iter(x, t, w, b)\n",
      "    for j in range(x.shape[0]):\n",
      "        [log_q, log_z, log_p] = perform_probabilities(x[0], upd_w, upd_b)\n",
      "        log_like = log_like + log_p\n",
      "    plt.plot(log_p)\n",
      "    plt.show\n",
      "    "
     ]
    },
    {
     "cell_type": "markdown",
     "metadata": {},
     "source": [
      "print log_p\n",
      "p = np.exp(log_p)"
     ]
    },
    {
     "cell_type": "markdown",
     "metadata": {},
     "source": [
      "### 1.2.2 Visualize weights (10 points)\n",
      "Visualize the resulting parameters $\\bW$ after a few iterations through the training set, by treating each column of $\\bW$ as an image. If you want, you can use or edit the `plot_digits(...)` above."
     ]
    },
    {
     "cell_type": "code",
     "collapsed": false,
     "input": [
      "def plot_weights(w, numcols, shape=(28,28)):\n",
      "    numdigits = w.shape[1]\n",
      "    numrows = int(numdigits/numcols)\n",
      "    figure(figsize=(15,9), dpi=72)\n",
      "    for i in range(numdigits): \n",
      "        plt.subplot(numrows, numcols, i)\n",
      "        plt.axis('off')\n",
      "        plt.title('j='+str(i));\n",
      "        plt.imshow(w[:,i].reshape(shape), interpolation='nearest', cmap='Greys')\n",
      "    \n",
      "    plt.show()"
     ],
     "language": "python",
     "metadata": {},
     "outputs": [],
     "prompt_number": 115
    },
    {
     "cell_type": "code",
     "collapsed": false,
     "input": [
      "x = x_train\n",
      "t = t_train\n",
      "#w = np.random.rand(784,10)\n",
      "#b = np.random.rand(10,1)\n",
      "w = np.zeros((784,10))\n",
      "b = np.zeros((10,1))\n",
      "\n",
      "itera = 5\n",
      "\n",
      "for i in range(itera):\n",
      "    print 'Iteration: ', i+1\n",
      "    w, b = sgd_iter(x, t, w, b)\n",
      "    \n",
      "plot_digits(w.T[:], numcols=5)\n",
      "plot_weights(w, 5)"
     ],
     "language": "python",
     "metadata": {},
     "outputs": [
      {
       "output_type": "stream",
       "stream": "stdout",
       "text": [
        "Iteration:  1\n",
        "Iteration: "
       ]
      },
      {
       "output_type": "stream",
       "stream": "stdout",
       "text": [
        " 2\n",
        "Iteration: "
       ]
      },
      {
       "output_type": "stream",
       "stream": "stdout",
       "text": [
        " 3\n",
        "Iteration: "
       ]
      },
      {
       "output_type": "stream",
       "stream": "stdout",
       "text": [
        " 4\n",
        "Iteration: "
       ]
      },
      {
       "output_type": "stream",
       "stream": "stdout",
       "text": [
        " 5\n"
       ]
      },
      {
       "metadata": {},
       "output_type": "display_data",
       "png": "[encoded data removed]",
       "text": [
        "<matplotlib.figure.Figure at 0x7f7ce1e168d0>"
       ]
      },
      {
       "metadata": {},
       "output_type": "display_data",
       "png": "[encoded data removed]",
       "text": [
        "<matplotlib.figure.Figure at 0x7f7ce2843810>"
       ]
      }
     ],
     "prompt_number": 118
    },
    {
     "cell_type": "markdown",
     "metadata": {},
     "source": [
      "### 1.2.3. Visualize the 8 hardest and 8 easiest digits (10 points)\n",
      "Visualize the 8 digits in the validation set with the highest probability of the true class label under the model.\n",
      "Also plot the 8 digits that were assigned the lowest probability.\n",
      "Ask yourself if these results make sense."
     ]
    },
    {
     "cell_type": "code",
     "collapsed": false,
     "input": [],
     "language": "python",
     "metadata": {},
     "outputs": []
    },
    {
     "cell_type": "markdown",
     "metadata": {},
     "source": [
      "# Part 2. Multilayer perceptron\n",
      "\n",
      "\n",
      "You discover that the predictions by the logistic regression classifier are not good enough for your application: the model is too simple. You want to increase the accuracy of your predictions by using a better model. For this purpose, you're going to use a multilayer perceptron (MLP), a simple kind of neural network. The perceptron wil have a single hidden layer $\\bh$ with $L$ elements. The parameters of the model are $\\bV$ (connections between input $\\bx$ and hidden layer $\\bh$), $\\ba$ (the biases/intercepts of $\\bh$), $\\bW$ (connections between $\\bh$ and $\\log q$) and $\\bb$ (the biases/intercepts of $\\log q$.\n",
      "\n",
      "The conditional probability of the class label $j$ is given by:\n",
      "\n",
      "$\\log p(t = j \\;|\\; \\bx, \\bb, \\bW) = \\log q_j - \\log Z$\n",
      "\n",
      "where $q_j$ are again the unnormalized probabilities per class, and $Z = \\sum_j q_j$ is again the probability normalizing factor. Each $q_j$ is computed using:\n",
      "\n",
      "$\\log q_j = \\bw_j^T \\bh + b_j$\n",
      "\n",
      "where $\\bh$ is a $L \\times 1$ vector with the hidden layer activations (of a hidden layer with size $L$), and $\\bw_j$ is the $j$-th column of $\\bW$ (a $L \\times 10$ matrix). Each element of the hidden layer is computed from the input vector $\\bx$ using:\n",
      "\n",
      "$h_j = \\sigma(\\bv_j^T \\bx + a_j)$\n",
      "\n",
      "where $\\bv_j$ is the $j$-th column of $\\bV$ (a $784 \\times L$ matrix), $a_j$ is the $j$-th element of $\\ba$, and $\\sigma(.)$ is the so-called sigmoid activation function, defined by:\n",
      "\n",
      "$\\sigma(x) = \\frac{1}{1 + \\exp(-x)}$\n",
      "\n",
      "Note that this model is almost equal to the multiclass logistic regression model, but with an extra 'hidden layer' $\\bh$. The activations of this hidden layer can be viewed as features computed from the input, where the feature transformation ($\\bV$ and $\\ba$) is learned.\n",
      "\n",
      "## 2.1 Derive gradient equations (20 points)\n",
      "\n",
      "State (shortly) why $\\nabla_{\\bb} \\mathcal{L}^{(n)}$ is equal to the earlier (multiclass logistic regression) case, and why $\\nabla_{\\bw_j} \\mathcal{L}^{(n)}$ is almost equal to the earlier case.\n",
      "\n",
      "Like in multiclass logistic regression, you should use intermediate variables $\\mathbf{\\delta}_j^q$. In addition, you should use intermediate variables $\\mathbf{\\delta}_j^h = \\frac{\\partial \\mathcal{L}^{(n)}}{\\partial h_j}$.\n",
      "\n",
      "Given an input image, roughly the following intermediate variables should be computed:\n",
      "\n",
      "$\n",
      "\\log \\bq \\rightarrow Z \\rightarrow \\log \\bp \\rightarrow \\mathbf{\\delta}^q \\rightarrow \\mathbf{\\delta}^h\n",
      "$\n",
      "\n",
      "where $\\mathbf{\\delta}_j^h = \\frac{\\partial \\mathcal{L}^{(n)}}{\\partial \\bh_j}$.\n",
      "\n",
      "Give the equations for computing $\\mathbf{\\delta}^h$, and for computing the derivatives of $\\mathcal{L}^{(n)}$ w.r.t. $\\bW$, $\\bb$, $\\bV$ and $\\ba$. \n",
      "\n",
      "You can use the convenient fact that $\\frac{\\partial}{\\partial x} \\sigma(x) = \\sigma(x) (1 - \\sigma(x))$.\n"
     ]
    },
    {
     "cell_type": "markdown",
     "metadata": {},
     "source": [
      "Answer:"
     ]
    },
    {
     "cell_type": "markdown",
     "metadata": {},
     "source": [
      "## 2.2 MAP optimization (10 points)\n",
      "\n",
      "You derived equations for finding the _maximum likelihood_ solution of the parameters. Explain, in a few sentences, how you could extend this approach so that it optimizes towards a _maximum a posteriori_ (MAP) solution of the parameters, with a Gaussian prior on the parameters. "
     ]
    },
    {
     "cell_type": "markdown",
     "metadata": {},
     "source": [
      "Answer:"
     ]
    },
    {
     "cell_type": "markdown",
     "metadata": {},
     "source": [
      "## 2.3. Implement and train a MLP (15 points)\n",
      "\n",
      "Implement a MLP model with a single hidden layer, and code to train the model."
     ]
    },
    {
     "cell_type": "code",
     "collapsed": false,
     "input": [],
     "language": "python",
     "metadata": {},
     "outputs": []
    },
    {
     "cell_type": "markdown",
     "metadata": {},
     "source": [
      "### 2.3.1. Less than 250 misclassifications on the test set (10 bonus points)\n",
      "\n",
      "You receive an additional 10 bonus points if you manage to train a model with very high accuracy: at most 2.5% misclasified digits on the test set. Note that the test set contains 10000 digits, so you model should misclassify at most 250 digits. This should be achievable with a MLP model with one hidden layer. See results of various models at : `http://yann.lecun.com/exdb/mnist/index.html`. To reach such a low accuracy, you probably need to have a very high $L$ (many hidden units), probably $L > 200$, and apply a strong Gaussian prior on the weights. In this case you are allowed to use the validation set for training.\n",
      "You are allowed to add additional layers, and use convolutional networks, although that is probably not required to reach 2.5% misclassifications."
     ]
    },
    {
     "cell_type": "code",
     "collapsed": false,
     "input": [],
     "language": "python",
     "metadata": {},
     "outputs": []
    }
   ],
   "metadata": {}
  }
 ]
}